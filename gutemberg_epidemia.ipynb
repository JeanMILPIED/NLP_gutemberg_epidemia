{
 "cells": [
  {
   "cell_type": "code",
   "execution_count": 150,
   "metadata": {
    "scrolled": true
   },
   "outputs": [],
   "source": [
    "import requests\n",
    "import pprint\n",
    "from bs4 import BeautifulSoup\n",
    "from selenium import webdriver\n",
    "\n",
    "import pandas as pd\n",
    "import numpy as np\n",
    "\n",
    "import matplotlib.pyplot as plt"
   ]
  },
  {
   "cell_type": "code",
   "execution_count": 2,
   "metadata": {},
   "outputs": [],
   "source": [
    "#my useful info on content structure manually extracted\n",
    "my_url='https://www.gutenberg.org/browse/languages/fr'\n",
    "my_text_classes=['pdgbbylanguage']\n",
    "#my_text_classes=['row-cell shape','row-cell price','row-cell carat','row-cell cut','row-cell color','row-cell clarity','row-cell polish','row-cell symmetry','row-cell fluorescence', 'row-cell depth','row-cell table', 'row-cell lxwratio','row-cell pricepercarat','row-cell culet','row-cell skus','row-cell date']\n",
    "#my_href_list=['view-btn view-col']"
   ]
  },
  {
   "cell_type": "code",
   "execution_count": 3,
   "metadata": {
    "scrolled": true
   },
   "outputs": [
    {
     "name": "stdout",
     "output_type": "stream",
     "text": [
      "<title>Browse By Language: French - Project Gutenberg</title>\n"
     ]
    }
   ],
   "source": [
    "# Create your driver\n",
    "webdriver_1='C:/Program Files/chromedriver/chromedriver.exe'\n",
    "driver = webdriver.Chrome(webdriver_1)\n",
    "\n",
    "# Get a page\n",
    "driver.get(my_url)\n",
    "\n",
    "# Feed the source to BeautifulSoup\n",
    "soup = BeautifulSoup(driver.page_source, 'html.parser')\n",
    "\n",
    "print(soup.title) "
   ]
  },
  {
   "cell_type": "code",
   "execution_count": 4,
   "metadata": {},
   "outputs": [
    {
     "name": "stdout",
     "output_type": "stream",
     "text": [
      "a8269\n",
      "[\"Abbadie, Arnauld d', 1815-1894?\"]\n",
      "/ebooks/18812\n",
      "Douze ans de séjour dans la Haute-Éthiopie\n"
     ]
    }
   ],
   "source": [
    "print(soup.h2.a['name'])\n",
    "print(soup.h2.a.next_sibling.contents)\n",
    "print(soup.ul.a['href'])\n",
    "print(soup.ul.a.string)"
   ]
  },
  {
   "cell_type": "code",
   "execution_count": 5,
   "metadata": {},
   "outputs": [],
   "source": [
    "my_author_list=[]\n",
    "for my_element in soup.find_all([\"h2\",\"ul\"]):\n",
    "    if str(my_element)[0:4]=='<h2>':\n",
    "        my_vec=[]\n",
    "        try:\n",
    "            my_vec=np.append(my_element.a['name'],my_element.a.next_sibling.contents)\n",
    "        except:\n",
    "            continue\n",
    "    else:    \n",
    "        for child in my_element.descendants:\n",
    "            my_vec2=[]\n",
    "            my_vec3=[]\n",
    "            try:\n",
    "                my_vec2=np.append(child.a['href'],child.a.contents)\n",
    "                my_vec3=np.append(my_vec,my_vec2)\n",
    "            except:\n",
    "                continue\n",
    "            my_author_list.append(my_vec3)"
   ]
  },
  {
   "cell_type": "code",
   "execution_count": 6,
   "metadata": {},
   "outputs": [],
   "source": [
    "my_author_list=pd.DataFrame(my_author_list)"
   ]
  },
  {
   "cell_type": "code",
   "execution_count": 7,
   "metadata": {},
   "outputs": [
    {
     "data": {
      "text/html": [
       "<div>\n",
       "<style scoped>\n",
       "    .dataframe tbody tr th:only-of-type {\n",
       "        vertical-align: middle;\n",
       "    }\n",
       "\n",
       "    .dataframe tbody tr th {\n",
       "        vertical-align: top;\n",
       "    }\n",
       "\n",
       "    .dataframe thead th {\n",
       "        text-align: right;\n",
       "    }\n",
       "</style>\n",
       "<table border=\"1\" class=\"dataframe\">\n",
       "  <thead>\n",
       "    <tr style=\"text-align: right;\">\n",
       "      <th></th>\n",
       "      <th>0</th>\n",
       "      <th>1</th>\n",
       "      <th>2</th>\n",
       "      <th>3</th>\n",
       "      <th>4</th>\n",
       "      <th>5</th>\n",
       "      <th>6</th>\n",
       "      <th>7</th>\n",
       "      <th>8</th>\n",
       "      <th>9</th>\n",
       "    </tr>\n",
       "  </thead>\n",
       "  <tbody>\n",
       "    <tr>\n",
       "      <td>0</td>\n",
       "      <td>a8269</td>\n",
       "      <td>Abbadie, Arnauld d', 1815-1894?</td>\n",
       "      <td>/ebooks/18812</td>\n",
       "      <td>Douze ans de séjour dans la Haute-Éthiopie</td>\n",
       "      <td>None</td>\n",
       "      <td>None</td>\n",
       "      <td>None</td>\n",
       "      <td>None</td>\n",
       "      <td>None</td>\n",
       "      <td>None</td>\n",
       "    </tr>\n",
       "    <tr>\n",
       "      <td>1</td>\n",
       "      <td>a5182</td>\n",
       "      <td>About, Edmond, 1828-1885</td>\n",
       "      <td>/ebooks/18092</td>\n",
       "      <td>Germaine</td>\n",
       "      <td>None</td>\n",
       "      <td>None</td>\n",
       "      <td>None</td>\n",
       "      <td>None</td>\n",
       "      <td>None</td>\n",
       "      <td>None</td>\n",
       "    </tr>\n",
       "    <tr>\n",
       "      <td>2</td>\n",
       "      <td>a5182</td>\n",
       "      <td>About, Edmond, 1828-1885</td>\n",
       "      <td>/ebooks/22813</td>\n",
       "      <td>Heath's Modern Language Series: La Mère de la ...</td>\n",
       "      <td>None</td>\n",
       "      <td>None</td>\n",
       "      <td>None</td>\n",
       "      <td>None</td>\n",
       "      <td>None</td>\n",
       "      <td>None</td>\n",
       "    </tr>\n",
       "    <tr>\n",
       "      <td>3</td>\n",
       "      <td>a5182</td>\n",
       "      <td>About, Edmond, 1828-1885</td>\n",
       "      <td>/ebooks/13704</td>\n",
       "      <td>L'homme à l'oreille cassée</td>\n",
       "      <td>None</td>\n",
       "      <td>None</td>\n",
       "      <td>None</td>\n",
       "      <td>None</td>\n",
       "      <td>None</td>\n",
       "      <td>None</td>\n",
       "    </tr>\n",
       "    <tr>\n",
       "      <td>4</td>\n",
       "      <td>a5182</td>\n",
       "      <td>About, Edmond, 1828-1885</td>\n",
       "      <td>/ebooks/51709</td>\n",
       "      <td>Le nez d'un notaire</td>\n",
       "      <td>None</td>\n",
       "      <td>None</td>\n",
       "      <td>None</td>\n",
       "      <td>None</td>\n",
       "      <td>None</td>\n",
       "      <td>None</td>\n",
       "    </tr>\n",
       "    <tr>\n",
       "      <td>5</td>\n",
       "      <td>a39968</td>\n",
       "      <td>Abrantès, Laure Junot, duchesse d', 1784-1838</td>\n",
       "      <td>/ebooks/39331</td>\n",
       "      <td>Histoire des salons de Paris (Tome 1/6)\\n</td>\n",
       "      <td>[]</td>\n",
       "      <td>Tableaux et portraits du grand monde sous Loui...</td>\n",
       "      <td>None</td>\n",
       "      <td>None</td>\n",
       "      <td>None</td>\n",
       "      <td>None</td>\n",
       "    </tr>\n",
       "    <tr>\n",
       "      <td>6</td>\n",
       "      <td>a39968</td>\n",
       "      <td>Abrantès, Laure Junot, duchesse d', 1784-1838</td>\n",
       "      <td>/ebooks/41121</td>\n",
       "      <td>Histoire des salons de Paris (Tome 2/6)\\n</td>\n",
       "      <td>[]</td>\n",
       "      <td>Tableaux et portraits du grand monde sous Loui...</td>\n",
       "      <td>None</td>\n",
       "      <td>None</td>\n",
       "      <td>None</td>\n",
       "      <td>None</td>\n",
       "    </tr>\n",
       "    <tr>\n",
       "      <td>7</td>\n",
       "      <td>a39968</td>\n",
       "      <td>Abrantès, Laure Junot, duchesse d', 1784-1838</td>\n",
       "      <td>/ebooks/42663</td>\n",
       "      <td>Histoire des salons de Paris (Tome 3/6)\\n</td>\n",
       "      <td>[]</td>\n",
       "      <td>Tableaux et portraits du grand monde sous Loui...</td>\n",
       "      <td>None</td>\n",
       "      <td>None</td>\n",
       "      <td>None</td>\n",
       "      <td>None</td>\n",
       "    </tr>\n",
       "    <tr>\n",
       "      <td>8</td>\n",
       "      <td>a39968</td>\n",
       "      <td>Abrantès, Laure Junot, duchesse d', 1784-1838</td>\n",
       "      <td>/ebooks/44054</td>\n",
       "      <td>Histoire des salons de Paris (Tome 4/6)\\n</td>\n",
       "      <td>[]</td>\n",
       "      <td>Tableaux et portraits du grand monde sous Loui...</td>\n",
       "      <td>None</td>\n",
       "      <td>None</td>\n",
       "      <td>None</td>\n",
       "      <td>None</td>\n",
       "    </tr>\n",
       "    <tr>\n",
       "      <td>9</td>\n",
       "      <td>a39968</td>\n",
       "      <td>Abrantès, Laure Junot, duchesse d', 1784-1838</td>\n",
       "      <td>/ebooks/44664</td>\n",
       "      <td>Histoire des salons de Paris (Tome 5/6)\\n</td>\n",
       "      <td>[]</td>\n",
       "      <td>Tableaux et portraits du grand monde sous Loui...</td>\n",
       "      <td>None</td>\n",
       "      <td>None</td>\n",
       "      <td>None</td>\n",
       "      <td>None</td>\n",
       "    </tr>\n",
       "    <tr>\n",
       "      <td>10</td>\n",
       "      <td>a39968</td>\n",
       "      <td>Abrantès, Laure Junot, duchesse d', 1784-1838</td>\n",
       "      <td>/ebooks/44676</td>\n",
       "      <td>Histoire des salons de Paris (Tome 6/6)\\n</td>\n",
       "      <td>[]</td>\n",
       "      <td>Tableaux et portraits du grand monde sous Loui...</td>\n",
       "      <td>None</td>\n",
       "      <td>None</td>\n",
       "      <td>None</td>\n",
       "      <td>None</td>\n",
       "    </tr>\n",
       "    <tr>\n",
       "      <td>11</td>\n",
       "      <td>a3678</td>\n",
       "      <td>Achard, Amédée, 1814-1875</td>\n",
       "      <td>/ebooks/17808</td>\n",
       "      <td>Belle-Rose</td>\n",
       "      <td>None</td>\n",
       "      <td>None</td>\n",
       "      <td>None</td>\n",
       "      <td>None</td>\n",
       "      <td>None</td>\n",
       "      <td>None</td>\n",
       "    </tr>\n",
       "    <tr>\n",
       "      <td>12</td>\n",
       "      <td>a3678</td>\n",
       "      <td>Achard, Amédée, 1814-1875</td>\n",
       "      <td>/ebooks/16901</td>\n",
       "      <td>Madame Rose; Pierre de Villerglé</td>\n",
       "      <td>None</td>\n",
       "      <td>None</td>\n",
       "      <td>None</td>\n",
       "      <td>None</td>\n",
       "      <td>None</td>\n",
       "      <td>None</td>\n",
       "    </tr>\n",
       "    <tr>\n",
       "      <td>13</td>\n",
       "      <td>a3678</td>\n",
       "      <td>Achard, Amédée, 1814-1875</td>\n",
       "      <td>/ebooks/10774</td>\n",
       "      <td>Récits d'un soldat: Une armée prisonnière; Une...</td>\n",
       "      <td>None</td>\n",
       "      <td>None</td>\n",
       "      <td>None</td>\n",
       "      <td>None</td>\n",
       "      <td>None</td>\n",
       "      <td>None</td>\n",
       "    </tr>\n",
       "    <tr>\n",
       "      <td>14</td>\n",
       "      <td>a40268</td>\n",
       "      <td>Adam, Adolphe, 1803-1856</td>\n",
       "      <td>/ebooks/58290</td>\n",
       "      <td>Derniers souvenirs d'un musicien</td>\n",
       "      <td>None</td>\n",
       "      <td>None</td>\n",
       "      <td>None</td>\n",
       "      <td>None</td>\n",
       "      <td>None</td>\n",
       "      <td>None</td>\n",
       "    </tr>\n",
       "    <tr>\n",
       "      <td>15</td>\n",
       "      <td>a40268</td>\n",
       "      <td>Adam, Adolphe, 1803-1856</td>\n",
       "      <td>/ebooks/60806</td>\n",
       "      <td>Souvenirs d'un musicien</td>\n",
       "      <td>[]</td>\n",
       "      <td>précédés de notes biographiques écrites par lu...</td>\n",
       "      <td>None</td>\n",
       "      <td>None</td>\n",
       "      <td>None</td>\n",
       "      <td>None</td>\n",
       "    </tr>\n",
       "    <tr>\n",
       "      <td>16</td>\n",
       "      <td>a6384</td>\n",
       "      <td>Adam, Paul, 1862-1920</td>\n",
       "      <td>/ebooks/33378</td>\n",
       "      <td>Au soleil de juillet (1829-1830)</td>\n",
       "      <td>[]</td>\n",
       "      <td>Le temps et la vie</td>\n",
       "      <td>None</td>\n",
       "      <td>None</td>\n",
       "      <td>None</td>\n",
       "      <td>None</td>\n",
       "    </tr>\n",
       "    <tr>\n",
       "      <td>17</td>\n",
       "      <td>a6384</td>\n",
       "      <td>Adam, Paul, 1862-1920</td>\n",
       "      <td>/ebooks/15943</td>\n",
       "      <td>Le conte futur</td>\n",
       "      <td>None</td>\n",
       "      <td>None</td>\n",
       "      <td>None</td>\n",
       "      <td>None</td>\n",
       "      <td>None</td>\n",
       "      <td>None</td>\n",
       "    </tr>\n",
       "    <tr>\n",
       "      <td>18</td>\n",
       "      <td>a6384</td>\n",
       "      <td>Adam, Paul, 1862-1920</td>\n",
       "      <td>/ebooks/27566</td>\n",
       "      <td>La Force\\n</td>\n",
       "      <td>[]</td>\n",
       "      <td>Le Temps et la Vie</td>\n",
       "      <td>None</td>\n",
       "      <td>None</td>\n",
       "      <td>None</td>\n",
       "      <td>None</td>\n",
       "    </tr>\n",
       "    <tr>\n",
       "      <td>19</td>\n",
       "      <td>a6384</td>\n",
       "      <td>Adam, Paul, 1862-1920</td>\n",
       "      <td>/ebooks/61418</td>\n",
       "      <td>La glèbe</td>\n",
       "      <td>None</td>\n",
       "      <td>None</td>\n",
       "      <td>None</td>\n",
       "      <td>None</td>\n",
       "      <td>None</td>\n",
       "      <td>None</td>\n",
       "    </tr>\n",
       "  </tbody>\n",
       "</table>\n",
       "</div>"
      ],
      "text/plain": [
       "         0                                              1              2  \\\n",
       "0    a8269                Abbadie, Arnauld d', 1815-1894?  /ebooks/18812   \n",
       "1    a5182                       About, Edmond, 1828-1885  /ebooks/18092   \n",
       "2    a5182                       About, Edmond, 1828-1885  /ebooks/22813   \n",
       "3    a5182                       About, Edmond, 1828-1885  /ebooks/13704   \n",
       "4    a5182                       About, Edmond, 1828-1885  /ebooks/51709   \n",
       "5   a39968  Abrantès, Laure Junot, duchesse d', 1784-1838  /ebooks/39331   \n",
       "6   a39968  Abrantès, Laure Junot, duchesse d', 1784-1838  /ebooks/41121   \n",
       "7   a39968  Abrantès, Laure Junot, duchesse d', 1784-1838  /ebooks/42663   \n",
       "8   a39968  Abrantès, Laure Junot, duchesse d', 1784-1838  /ebooks/44054   \n",
       "9   a39968  Abrantès, Laure Junot, duchesse d', 1784-1838  /ebooks/44664   \n",
       "10  a39968  Abrantès, Laure Junot, duchesse d', 1784-1838  /ebooks/44676   \n",
       "11   a3678                      Achard, Amédée, 1814-1875  /ebooks/17808   \n",
       "12   a3678                      Achard, Amédée, 1814-1875  /ebooks/16901   \n",
       "13   a3678                      Achard, Amédée, 1814-1875  /ebooks/10774   \n",
       "14  a40268                       Adam, Adolphe, 1803-1856  /ebooks/58290   \n",
       "15  a40268                       Adam, Adolphe, 1803-1856  /ebooks/60806   \n",
       "16   a6384                          Adam, Paul, 1862-1920  /ebooks/33378   \n",
       "17   a6384                          Adam, Paul, 1862-1920  /ebooks/15943   \n",
       "18   a6384                          Adam, Paul, 1862-1920  /ebooks/27566   \n",
       "19   a6384                          Adam, Paul, 1862-1920  /ebooks/61418   \n",
       "\n",
       "                                                    3     4  \\\n",
       "0          Douze ans de séjour dans la Haute-Éthiopie  None   \n",
       "1                                            Germaine  None   \n",
       "2   Heath's Modern Language Series: La Mère de la ...  None   \n",
       "3                          L'homme à l'oreille cassée  None   \n",
       "4                                 Le nez d'un notaire  None   \n",
       "5           Histoire des salons de Paris (Tome 1/6)\\n    []   \n",
       "6           Histoire des salons de Paris (Tome 2/6)\\n    []   \n",
       "7           Histoire des salons de Paris (Tome 3/6)\\n    []   \n",
       "8           Histoire des salons de Paris (Tome 4/6)\\n    []   \n",
       "9           Histoire des salons de Paris (Tome 5/6)\\n    []   \n",
       "10          Histoire des salons de Paris (Tome 6/6)\\n    []   \n",
       "11                                         Belle-Rose  None   \n",
       "12                   Madame Rose; Pierre de Villerglé  None   \n",
       "13  Récits d'un soldat: Une armée prisonnière; Une...  None   \n",
       "14                   Derniers souvenirs d'un musicien  None   \n",
       "15                            Souvenirs d'un musicien    []   \n",
       "16                   Au soleil de juillet (1829-1830)    []   \n",
       "17                                     Le conte futur  None   \n",
       "18                                         La Force\\n    []   \n",
       "19                                           La glèbe  None   \n",
       "\n",
       "                                                    5     6     7     8     9  \n",
       "0                                                None  None  None  None  None  \n",
       "1                                                None  None  None  None  None  \n",
       "2                                                None  None  None  None  None  \n",
       "3                                                None  None  None  None  None  \n",
       "4                                                None  None  None  None  None  \n",
       "5   Tableaux et portraits du grand monde sous Loui...  None  None  None  None  \n",
       "6   Tableaux et portraits du grand monde sous Loui...  None  None  None  None  \n",
       "7   Tableaux et portraits du grand monde sous Loui...  None  None  None  None  \n",
       "8   Tableaux et portraits du grand monde sous Loui...  None  None  None  None  \n",
       "9   Tableaux et portraits du grand monde sous Loui...  None  None  None  None  \n",
       "10  Tableaux et portraits du grand monde sous Loui...  None  None  None  None  \n",
       "11                                               None  None  None  None  None  \n",
       "12                                               None  None  None  None  None  \n",
       "13                                               None  None  None  None  None  \n",
       "14                                               None  None  None  None  None  \n",
       "15  précédés de notes biographiques écrites par lu...  None  None  None  None  \n",
       "16                                 Le temps et la vie  None  None  None  None  \n",
       "17                                               None  None  None  None  None  \n",
       "18                                 Le Temps et la Vie  None  None  None  None  \n",
       "19                                               None  None  None  None  None  "
      ]
     },
     "execution_count": 7,
     "metadata": {},
     "output_type": "execute_result"
    }
   ],
   "source": [
    "my_author_list.head(20)"
   ]
  },
  {
   "cell_type": "code",
   "execution_count": 8,
   "metadata": {
    "scrolled": true
   },
   "outputs": [
    {
     "data": {
      "text/plain": [
       "0       0\n",
       "1       0\n",
       "2       2\n",
       "3       2\n",
       "4    3351\n",
       "5    3351\n",
       "6    4114\n",
       "7    4114\n",
       "8    4116\n",
       "9    4116\n",
       "dtype: int64"
      ]
     },
     "execution_count": 8,
     "metadata": {},
     "output_type": "execute_result"
    }
   ],
   "source": [
    "my_author_list.isnull().sum()"
   ]
  },
  {
   "cell_type": "code",
   "execution_count": 9,
   "metadata": {},
   "outputs": [],
   "source": [
    "my_author_list.to_csv('./french_books_list.csv')"
   ]
  },
  {
   "cell_type": "code",
   "execution_count": 64,
   "metadata": {},
   "outputs": [],
   "source": [
    "french_book_list=pd.read_csv('./french_books_list.csv', index_col=0)"
   ]
  },
  {
   "cell_type": "code",
   "execution_count": 116,
   "metadata": {},
   "outputs": [
    {
     "data": {
      "text/html": [
       "<div>\n",
       "<style scoped>\n",
       "    .dataframe tbody tr th:only-of-type {\n",
       "        vertical-align: middle;\n",
       "    }\n",
       "\n",
       "    .dataframe tbody tr th {\n",
       "        vertical-align: top;\n",
       "    }\n",
       "\n",
       "    .dataframe thead th {\n",
       "        text-align: right;\n",
       "    }\n",
       "</style>\n",
       "<table border=\"1\" class=\"dataframe\">\n",
       "  <thead>\n",
       "    <tr style=\"text-align: right;\">\n",
       "      <th></th>\n",
       "      <th>author_code</th>\n",
       "      <th>ebook_link</th>\n",
       "      <th>ebook_title</th>\n",
       "      <th>other_info</th>\n",
       "      <th>other_info.1</th>\n",
       "      <th>other_info.2</th>\n",
       "      <th>other_info.3</th>\n",
       "      <th>other_info.4</th>\n",
       "      <th>other_info.5</th>\n",
       "      <th>author_Name</th>\n",
       "      <th>author_Surname</th>\n",
       "      <th>author_birth_year</th>\n",
       "      <th>author_death_year</th>\n",
       "    </tr>\n",
       "  </thead>\n",
       "  <tbody>\n",
       "    <tr>\n",
       "      <td>4114</td>\n",
       "      <td>a528</td>\n",
       "      <td>/ebooks/6470</td>\n",
       "      <td>Le Ventre de Paris</td>\n",
       "      <td>NaN</td>\n",
       "      <td>NaN</td>\n",
       "      <td>NaN</td>\n",
       "      <td>NaN</td>\n",
       "      <td>NaN</td>\n",
       "      <td>NaN</td>\n",
       "      <td>Zola</td>\n",
       "      <td>Émile</td>\n",
       "      <td>1840</td>\n",
       "      <td>1902</td>\n",
       "    </tr>\n",
       "    <tr>\n",
       "      <td>4115</td>\n",
       "      <td>a528</td>\n",
       "      <td>/ebooks/56808</td>\n",
       "      <td>La vérité en marche: L'affaire Dreyfus</td>\n",
       "      <td>NaN</td>\n",
       "      <td>NaN</td>\n",
       "      <td>NaN</td>\n",
       "      <td>NaN</td>\n",
       "      <td>NaN</td>\n",
       "      <td>NaN</td>\n",
       "      <td>Zola</td>\n",
       "      <td>Émile</td>\n",
       "      <td>1840</td>\n",
       "      <td>1902</td>\n",
       "    </tr>\n",
       "    <tr>\n",
       "      <td>4116</td>\n",
       "      <td>a43794</td>\n",
       "      <td>/ebooks/46447</td>\n",
       "      <td>Ma confession</td>\n",
       "      <td>NaN</td>\n",
       "      <td>NaN</td>\n",
       "      <td>NaN</td>\n",
       "      <td>NaN</td>\n",
       "      <td>NaN</td>\n",
       "      <td>NaN</td>\n",
       "      <td>Zoria</td>\n",
       "      <td>NaN</td>\n",
       "      <td>NaN</td>\n",
       "      <td>NaN</td>\n",
       "    </tr>\n",
       "  </tbody>\n",
       "</table>\n",
       "</div>"
      ],
      "text/plain": [
       "     author_code     ebook_link                             ebook_title  \\\n",
       "4114        a528   /ebooks/6470                      Le Ventre de Paris   \n",
       "4115        a528  /ebooks/56808  La vérité en marche: L'affaire Dreyfus   \n",
       "4116      a43794  /ebooks/46447                           Ma confession   \n",
       "\n",
       "     other_info other_info.1 other_info.2 other_info.3 other_info.4  \\\n",
       "4114        NaN          NaN          NaN          NaN          NaN   \n",
       "4115        NaN          NaN          NaN          NaN          NaN   \n",
       "4116        NaN          NaN          NaN          NaN          NaN   \n",
       "\n",
       "     other_info.5 author_Name author_Surname author_birth_year  \\\n",
       "4114          NaN        Zola          Émile              1840   \n",
       "4115          NaN        Zola          Émile              1840   \n",
       "4116          NaN       Zoria            NaN               NaN   \n",
       "\n",
       "     author_death_year  \n",
       "4114              1902  \n",
       "4115              1902  \n",
       "4116               NaN  "
      ]
     },
     "execution_count": 116,
     "metadata": {},
     "output_type": "execute_result"
    }
   ],
   "source": [
    "french_book_list.tail(3)"
   ]
  },
  {
   "cell_type": "code",
   "execution_count": 66,
   "metadata": {},
   "outputs": [],
   "source": [
    "my_columns=['author_code','author_info','ebook_link','ebook_title','other_info','other_info','other_info','other_info','other_info','other_info']\n",
    "french_book_list.columns=my_columns"
   ]
  },
  {
   "cell_type": "code",
   "execution_count": 67,
   "metadata": {
    "scrolled": true
   },
   "outputs": [
    {
     "data": {
      "text/html": [
       "<div>\n",
       "<style scoped>\n",
       "    .dataframe tbody tr th:only-of-type {\n",
       "        vertical-align: middle;\n",
       "    }\n",
       "\n",
       "    .dataframe tbody tr th {\n",
       "        vertical-align: top;\n",
       "    }\n",
       "\n",
       "    .dataframe thead th {\n",
       "        text-align: right;\n",
       "    }\n",
       "</style>\n",
       "<table border=\"1\" class=\"dataframe\">\n",
       "  <thead>\n",
       "    <tr style=\"text-align: right;\">\n",
       "      <th></th>\n",
       "      <th>author_code</th>\n",
       "      <th>author_info</th>\n",
       "      <th>ebook_link</th>\n",
       "      <th>ebook_title</th>\n",
       "      <th>other_info</th>\n",
       "      <th>other_info</th>\n",
       "      <th>other_info</th>\n",
       "      <th>other_info</th>\n",
       "      <th>other_info</th>\n",
       "      <th>other_info</th>\n",
       "    </tr>\n",
       "  </thead>\n",
       "  <tbody>\n",
       "    <tr>\n",
       "      <td>0</td>\n",
       "      <td>a8269</td>\n",
       "      <td>Abbadie, Arnauld d', 1815-1894?</td>\n",
       "      <td>/ebooks/18812</td>\n",
       "      <td>Douze ans de séjour dans la Haute-Éthiopie</td>\n",
       "      <td>NaN</td>\n",
       "      <td>NaN</td>\n",
       "      <td>NaN</td>\n",
       "      <td>NaN</td>\n",
       "      <td>NaN</td>\n",
       "      <td>NaN</td>\n",
       "    </tr>\n",
       "    <tr>\n",
       "      <td>1</td>\n",
       "      <td>a5182</td>\n",
       "      <td>About, Edmond, 1828-1885</td>\n",
       "      <td>/ebooks/18092</td>\n",
       "      <td>Germaine</td>\n",
       "      <td>NaN</td>\n",
       "      <td>NaN</td>\n",
       "      <td>NaN</td>\n",
       "      <td>NaN</td>\n",
       "      <td>NaN</td>\n",
       "      <td>NaN</td>\n",
       "    </tr>\n",
       "    <tr>\n",
       "      <td>2</td>\n",
       "      <td>a5182</td>\n",
       "      <td>About, Edmond, 1828-1885</td>\n",
       "      <td>/ebooks/22813</td>\n",
       "      <td>Heath's Modern Language Series: La Mère de la ...</td>\n",
       "      <td>NaN</td>\n",
       "      <td>NaN</td>\n",
       "      <td>NaN</td>\n",
       "      <td>NaN</td>\n",
       "      <td>NaN</td>\n",
       "      <td>NaN</td>\n",
       "    </tr>\n",
       "  </tbody>\n",
       "</table>\n",
       "</div>"
      ],
      "text/plain": [
       "  author_code                      author_info     ebook_link  \\\n",
       "0       a8269  Abbadie, Arnauld d', 1815-1894?  /ebooks/18812   \n",
       "1       a5182         About, Edmond, 1828-1885  /ebooks/18092   \n",
       "2       a5182         About, Edmond, 1828-1885  /ebooks/22813   \n",
       "\n",
       "                                         ebook_title other_info other_info  \\\n",
       "0         Douze ans de séjour dans la Haute-Éthiopie        NaN        NaN   \n",
       "1                                           Germaine        NaN        NaN   \n",
       "2  Heath's Modern Language Series: La Mère de la ...        NaN        NaN   \n",
       "\n",
       "  other_info other_info other_info other_info  \n",
       "0        NaN        NaN        NaN        NaN  \n",
       "1        NaN        NaN        NaN        NaN  \n",
       "2        NaN        NaN        NaN        NaN  "
      ]
     },
     "execution_count": 67,
     "metadata": {},
     "output_type": "execute_result"
    }
   ],
   "source": [
    "french_book_list.head(3)"
   ]
  },
  {
   "cell_type": "code",
   "execution_count": 68,
   "metadata": {
    "scrolled": false
   },
   "outputs": [],
   "source": [
    "french_book_list[\"author_Name\"], french_book_list[\"author_Surname\"],french_book_list[\"author_life_years\"] = french_book_list[\"author_info\"].str.split(',', 2).str"
   ]
  },
  {
   "cell_type": "code",
   "execution_count": 69,
   "metadata": {},
   "outputs": [],
   "source": [
    "french_book_list[\"author_birth_year\"],french_book_list[\"author_death_year\"] = french_book_list[\"author_life_years\"].str.split('-', 1).str"
   ]
  },
  {
   "cell_type": "code",
   "execution_count": 71,
   "metadata": {},
   "outputs": [],
   "source": [
    "french_book_list=french_book_list.drop(['author_info','author_life_years'],axis=1)"
   ]
  },
  {
   "cell_type": "code",
   "execution_count": 72,
   "metadata": {
    "scrolled": true
   },
   "outputs": [
    {
     "data": {
      "text/html": [
       "<div>\n",
       "<style scoped>\n",
       "    .dataframe tbody tr th:only-of-type {\n",
       "        vertical-align: middle;\n",
       "    }\n",
       "\n",
       "    .dataframe tbody tr th {\n",
       "        vertical-align: top;\n",
       "    }\n",
       "\n",
       "    .dataframe thead th {\n",
       "        text-align: right;\n",
       "    }\n",
       "</style>\n",
       "<table border=\"1\" class=\"dataframe\">\n",
       "  <thead>\n",
       "    <tr style=\"text-align: right;\">\n",
       "      <th></th>\n",
       "      <th>author_code</th>\n",
       "      <th>ebook_link</th>\n",
       "      <th>ebook_title</th>\n",
       "      <th>other_info</th>\n",
       "      <th>other_info</th>\n",
       "      <th>other_info</th>\n",
       "      <th>other_info</th>\n",
       "      <th>other_info</th>\n",
       "      <th>other_info</th>\n",
       "      <th>author_Name</th>\n",
       "      <th>author_Surname</th>\n",
       "      <th>author_birth_year</th>\n",
       "      <th>author_death_year</th>\n",
       "    </tr>\n",
       "  </thead>\n",
       "  <tbody>\n",
       "    <tr>\n",
       "      <td>0</td>\n",
       "      <td>a8269</td>\n",
       "      <td>/ebooks/18812</td>\n",
       "      <td>Douze ans de séjour dans la Haute-Éthiopie</td>\n",
       "      <td>NaN</td>\n",
       "      <td>NaN</td>\n",
       "      <td>NaN</td>\n",
       "      <td>NaN</td>\n",
       "      <td>NaN</td>\n",
       "      <td>NaN</td>\n",
       "      <td>Abbadie</td>\n",
       "      <td>Arnauld d'</td>\n",
       "      <td>1815</td>\n",
       "      <td>1894?</td>\n",
       "    </tr>\n",
       "    <tr>\n",
       "      <td>1</td>\n",
       "      <td>a5182</td>\n",
       "      <td>/ebooks/18092</td>\n",
       "      <td>Germaine</td>\n",
       "      <td>NaN</td>\n",
       "      <td>NaN</td>\n",
       "      <td>NaN</td>\n",
       "      <td>NaN</td>\n",
       "      <td>NaN</td>\n",
       "      <td>NaN</td>\n",
       "      <td>About</td>\n",
       "      <td>Edmond</td>\n",
       "      <td>1828</td>\n",
       "      <td>1885</td>\n",
       "    </tr>\n",
       "    <tr>\n",
       "      <td>2</td>\n",
       "      <td>a5182</td>\n",
       "      <td>/ebooks/22813</td>\n",
       "      <td>Heath's Modern Language Series: La Mère de la ...</td>\n",
       "      <td>NaN</td>\n",
       "      <td>NaN</td>\n",
       "      <td>NaN</td>\n",
       "      <td>NaN</td>\n",
       "      <td>NaN</td>\n",
       "      <td>NaN</td>\n",
       "      <td>About</td>\n",
       "      <td>Edmond</td>\n",
       "      <td>1828</td>\n",
       "      <td>1885</td>\n",
       "    </tr>\n",
       "  </tbody>\n",
       "</table>\n",
       "</div>"
      ],
      "text/plain": [
       "  author_code     ebook_link  \\\n",
       "0       a8269  /ebooks/18812   \n",
       "1       a5182  /ebooks/18092   \n",
       "2       a5182  /ebooks/22813   \n",
       "\n",
       "                                         ebook_title other_info other_info  \\\n",
       "0         Douze ans de séjour dans la Haute-Éthiopie        NaN        NaN   \n",
       "1                                           Germaine        NaN        NaN   \n",
       "2  Heath's Modern Language Series: La Mère de la ...        NaN        NaN   \n",
       "\n",
       "  other_info other_info other_info other_info author_Name author_Surname  \\\n",
       "0        NaN        NaN        NaN        NaN     Abbadie     Arnauld d'   \n",
       "1        NaN        NaN        NaN        NaN       About         Edmond   \n",
       "2        NaN        NaN        NaN        NaN       About         Edmond   \n",
       "\n",
       "  author_birth_year author_death_year  \n",
       "0              1815             1894?  \n",
       "1              1828              1885  \n",
       "2              1828              1885  "
      ]
     },
     "execution_count": 72,
     "metadata": {},
     "output_type": "execute_result"
    }
   ],
   "source": [
    "french_book_list.head(3)"
   ]
  },
  {
   "cell_type": "code",
   "execution_count": 73,
   "metadata": {},
   "outputs": [],
   "source": [
    "french_book_list.to_csv('./french_books_list_2.csv')"
   ]
  },
  {
   "cell_type": "markdown",
   "metadata": {},
   "source": [
    "### extract some metrics from the database and clean the database again\n",
    "- 4117 ebooks\n",
    "- 1474 authors\n",
    "- 22 authors have more than 20 books in the database like Sand, Dumas, Verne, Maupassant, Zola, Hugo, Daudet\n",
    "- authors birth year ranges from 56 to 1954 with a median in 1825\n",
    "- authors death year ranges from 104 to 1985 with a median in 1887\n",
    "- the distribution of books per century is as followed. A majority of books from the XIXth century:  \n",
    "    1st  :      3  \n",
    "    15th :      8  \n",
    "    16th :     68  \n",
    "    17th :     81  \n",
    "    18th :    214  \n",
    "    19th :   2539  \n",
    "    20th :    214  \n"
   ]
  },
  {
   "cell_type": "code",
   "execution_count": 151,
   "metadata": {},
   "outputs": [],
   "source": [
    "french_book_list=pd.read_csv('./french_books_list_2.csv',index_col=0)"
   ]
  },
  {
   "cell_type": "code",
   "execution_count": 152,
   "metadata": {},
   "outputs": [
    {
     "data": {
      "text/plain": [
       "(4117, 13)"
      ]
     },
     "execution_count": 152,
     "metadata": {},
     "output_type": "execute_result"
    }
   ],
   "source": [
    "french_book_list.shape"
   ]
  },
  {
   "cell_type": "code",
   "execution_count": 153,
   "metadata": {
    "scrolled": true
   },
   "outputs": [
    {
     "data": {
      "text/plain": [
       "author_code          object\n",
       "ebook_link           object\n",
       "ebook_title          object\n",
       "other_info           object\n",
       "other_info.1         object\n",
       "other_info.2         object\n",
       "other_info.3         object\n",
       "other_info.4         object\n",
       "other_info.5         object\n",
       "author_Name          object\n",
       "author_Surname       object\n",
       "author_birth_year    object\n",
       "author_death_year    object\n",
       "dtype: object"
      ]
     },
     "execution_count": 153,
     "metadata": {},
     "output_type": "execute_result"
    }
   ],
   "source": [
    "french_book_list.dtypes"
   ]
  },
  {
   "cell_type": "code",
   "execution_count": 154,
   "metadata": {},
   "outputs": [],
   "source": [
    "my_list_of_authors=french_book_list.groupby(by='author_Name').count().sort_values(by='author_code',ascending=False).loc[:,\"author_code\"]"
   ]
  },
  {
   "cell_type": "code",
   "execution_count": 155,
   "metadata": {},
   "outputs": [
    {
     "data": {
      "text/plain": [
       "(1474,)"
      ]
     },
     "execution_count": 155,
     "metadata": {},
     "output_type": "execute_result"
    }
   ],
   "source": [
    "my_list_of_authors.shape"
   ]
  },
  {
   "cell_type": "code",
   "execution_count": 156,
   "metadata": {},
   "outputs": [
    {
     "data": {
      "image/png": "[encoded data removed]",
      "text/plain": [
       "<Figure size 432x288 with 1 Axes>"
      ]
     },
     "metadata": {
      "needs_background": "light"
     },
     "output_type": "display_data"
    }
   ],
   "source": [
    "plt.bar(my_list_of_authors[my_list_of_authors>20].index,my_list_of_authors[my_list_of_authors>20])\n",
    "plt.xticks(rotation='vertical')\n",
    "plt.ylabel('number of ebooks in the database')\n",
    "plt.grid(True)"
   ]
  },
  {
   "cell_type": "code",
   "execution_count": 225,
   "metadata": {},
   "outputs": [],
   "source": [
    "#from what period?\n",
    "# we have to clean the birth date period\n",
    "\n",
    "my_clean_birth_list=[int(str(my_birth_date)[1:]) if str(my_birth_date)[1:].isnumeric() else None for my_birth_date in french_book_list[\"author_birth_year\"]]\n",
    "my_clean_death_list=[int(str(my_death_date)[0:4]) if str(my_death_date)[1:].isnumeric() else None for my_death_date in french_book_list[\"author_death_year\"]]"
   ]
  },
  {
   "cell_type": "code",
   "execution_count": 217,
   "metadata": {},
   "outputs": [
    {
     "name": "stdout",
     "output_type": "stream",
     "text": [
      "56 1954 1825.0 (3127,)\n"
     ]
    },
    {
     "data": {
      "image/png": "[encoded data removed]",
      "text/plain": [
       "<Figure size 432x288 with 1 Axes>"
      ]
     },
     "metadata": {
      "needs_background": "light"
     },
     "output_type": "display_data"
    }
   ],
   "source": [
    "A=np.array(my_clean_birth_list)\n",
    "plt.hist(A[A!=None],35,range=[1300, 2000])\n",
    "plt.title(\"histogram of authors birth date\")\n",
    "print(np.min(A[A!=None]), np.max(A[A!=None]), np.median(A[A!=None]), A[A!=None].shape)"
   ]
  },
  {
   "cell_type": "code",
   "execution_count": 226,
   "metadata": {
    "scrolled": true
   },
   "outputs": [
    {
     "name": "stdout",
     "output_type": "stream",
     "text": [
      "104 1985 1887.0 (3345,)\n"
     ]
    },
    {
     "data": {
      "image/png": "[encoded data removed]",
      "text/plain": [
       "<Figure size 432x288 with 1 Axes>"
      ]
     },
     "metadata": {
      "needs_background": "light"
     },
     "output_type": "display_data"
    }
   ],
   "source": [
    "A=np.array(my_clean_death_list)\n",
    "plt.hist(A[A!=None],35,range=[1300, 2000])\n",
    "plt.title(\"histogram of authors death date\")\n",
    "print(np.min(A[A!=None]), np.max(A[A!=None]), np.median(A[A!=None]), A[A!=None].shape)"
   ]
  },
  {
   "cell_type": "code",
   "execution_count": 227,
   "metadata": {},
   "outputs": [],
   "source": [
    "french_book_list[\"clean_birth_year\"]=np.array(my_clean_birth_list)\n",
    "french_book_list[\"clean_death_year\"]=np.array(my_clean_death_list)"
   ]
  },
  {
   "cell_type": "code",
   "execution_count": 229,
   "metadata": {},
   "outputs": [],
   "source": [
    "french_book_list=french_book_list.drop(['author_birth_year','author_death_year'], axis=1)"
   ]
  },
  {
   "cell_type": "code",
   "execution_count": 230,
   "metadata": {},
   "outputs": [
    {
     "data": {
      "text/html": [
       "<div>\n",
       "<style scoped>\n",
       "    .dataframe tbody tr th:only-of-type {\n",
       "        vertical-align: middle;\n",
       "    }\n",
       "\n",
       "    .dataframe tbody tr th {\n",
       "        vertical-align: top;\n",
       "    }\n",
       "\n",
       "    .dataframe thead th {\n",
       "        text-align: right;\n",
       "    }\n",
       "</style>\n",
       "<table border=\"1\" class=\"dataframe\">\n",
       "  <thead>\n",
       "    <tr style=\"text-align: right;\">\n",
       "      <th></th>\n",
       "      <th>author_code</th>\n",
       "      <th>ebook_link</th>\n",
       "      <th>ebook_title</th>\n",
       "      <th>other_info</th>\n",
       "      <th>other_info.1</th>\n",
       "      <th>other_info.2</th>\n",
       "      <th>other_info.3</th>\n",
       "      <th>other_info.4</th>\n",
       "      <th>other_info.5</th>\n",
       "      <th>author_Name</th>\n",
       "      <th>author_Surname</th>\n",
       "      <th>clean_birth_year</th>\n",
       "      <th>clean_death_year</th>\n",
       "    </tr>\n",
       "  </thead>\n",
       "  <tbody>\n",
       "    <tr>\n",
       "      <td>0</td>\n",
       "      <td>a8269</td>\n",
       "      <td>/ebooks/18812</td>\n",
       "      <td>Douze ans de séjour dans la Haute-Éthiopie</td>\n",
       "      <td>NaN</td>\n",
       "      <td>NaN</td>\n",
       "      <td>NaN</td>\n",
       "      <td>NaN</td>\n",
       "      <td>NaN</td>\n",
       "      <td>NaN</td>\n",
       "      <td>Abbadie</td>\n",
       "      <td>Arnauld d'</td>\n",
       "      <td>1815</td>\n",
       "      <td>None</td>\n",
       "    </tr>\n",
       "    <tr>\n",
       "      <td>1</td>\n",
       "      <td>a5182</td>\n",
       "      <td>/ebooks/18092</td>\n",
       "      <td>Germaine</td>\n",
       "      <td>NaN</td>\n",
       "      <td>NaN</td>\n",
       "      <td>NaN</td>\n",
       "      <td>NaN</td>\n",
       "      <td>NaN</td>\n",
       "      <td>NaN</td>\n",
       "      <td>About</td>\n",
       "      <td>Edmond</td>\n",
       "      <td>1828</td>\n",
       "      <td>1885</td>\n",
       "    </tr>\n",
       "    <tr>\n",
       "      <td>2</td>\n",
       "      <td>a5182</td>\n",
       "      <td>/ebooks/22813</td>\n",
       "      <td>Heath's Modern Language Series: La Mère de la ...</td>\n",
       "      <td>NaN</td>\n",
       "      <td>NaN</td>\n",
       "      <td>NaN</td>\n",
       "      <td>NaN</td>\n",
       "      <td>NaN</td>\n",
       "      <td>NaN</td>\n",
       "      <td>About</td>\n",
       "      <td>Edmond</td>\n",
       "      <td>1828</td>\n",
       "      <td>1885</td>\n",
       "    </tr>\n",
       "  </tbody>\n",
       "</table>\n",
       "</div>"
      ],
      "text/plain": [
       "  author_code     ebook_link  \\\n",
       "0       a8269  /ebooks/18812   \n",
       "1       a5182  /ebooks/18092   \n",
       "2       a5182  /ebooks/22813   \n",
       "\n",
       "                                         ebook_title other_info other_info.1  \\\n",
       "0         Douze ans de séjour dans la Haute-Éthiopie        NaN          NaN   \n",
       "1                                           Germaine        NaN          NaN   \n",
       "2  Heath's Modern Language Series: La Mère de la ...        NaN          NaN   \n",
       "\n",
       "  other_info.2 other_info.3 other_info.4 other_info.5 author_Name  \\\n",
       "0          NaN          NaN          NaN          NaN     Abbadie   \n",
       "1          NaN          NaN          NaN          NaN       About   \n",
       "2          NaN          NaN          NaN          NaN       About   \n",
       "\n",
       "  author_Surname clean_birth_year clean_death_year  \n",
       "0     Arnauld d'             1815             None  \n",
       "1         Edmond             1828             1885  \n",
       "2         Edmond             1828             1885  "
      ]
     },
     "execution_count": 230,
     "metadata": {},
     "output_type": "execute_result"
    }
   ],
   "source": [
    "french_book_list.head(3)"
   ]
  },
  {
   "cell_type": "code",
   "execution_count": 247,
   "metadata": {},
   "outputs": [],
   "source": [
    "my_century_list=[None if my_birth==None else int(str(my_birth+30)[0:2])+1 if len(str(my_birth+30))==4 else int(str(my_birth+30)[0:1])+1 if len(str(my_birth+30))==3  else 1 for my_birth in french_book_list['clean_birth_year']]\n",
    "    "
   ]
  },
  {
   "cell_type": "code",
   "execution_count": 248,
   "metadata": {},
   "outputs": [],
   "source": [
    "french_book_list[\"century\"]=np.array(my_century_list)"
   ]
  },
  {
   "cell_type": "code",
   "execution_count": 249,
   "metadata": {},
   "outputs": [
    {
     "data": {
      "text/plain": [
       "century\n",
       "1        3\n",
       "15       8\n",
       "16      68\n",
       "17      81\n",
       "18     214\n",
       "19    2539\n",
       "20     214\n",
       "Name: author_code, dtype: int64"
      ]
     },
     "execution_count": 249,
     "metadata": {},
     "output_type": "execute_result"
    }
   ],
   "source": [
    "french_book_list.groupby(by='century').count().iloc[:,0]"
   ]
  },
  {
   "cell_type": "code",
   "execution_count": 262,
   "metadata": {},
   "outputs": [],
   "source": [
    "#create the link to the .txt book\n",
    "# example: http://www.gutenberg.org/cache/epub/18812/pg18812.txt\n",
    "_,_,french_book_list['link']=french_book_list['ebook_link'].str.split('/',2).str\n"
   ]
  },
  {
   "cell_type": "code",
   "execution_count": 265,
   "metadata": {},
   "outputs": [],
   "source": [
    "french_book_list['link_txt']=['http://www.gutenberg.org/cache/epub/'+str(my_link)+'/pg'+str(my_link)+'.txt' for my_link in french_book_list['link']]"
   ]
  },
  {
   "cell_type": "code",
   "execution_count": 266,
   "metadata": {},
   "outputs": [
    {
     "data": {
      "text/html": [
       "<div>\n",
       "<style scoped>\n",
       "    .dataframe tbody tr th:only-of-type {\n",
       "        vertical-align: middle;\n",
       "    }\n",
       "\n",
       "    .dataframe tbody tr th {\n",
       "        vertical-align: top;\n",
       "    }\n",
       "\n",
       "    .dataframe thead th {\n",
       "        text-align: right;\n",
       "    }\n",
       "</style>\n",
       "<table border=\"1\" class=\"dataframe\">\n",
       "  <thead>\n",
       "    <tr style=\"text-align: right;\">\n",
       "      <th></th>\n",
       "      <th>author_code</th>\n",
       "      <th>ebook_link</th>\n",
       "      <th>ebook_title</th>\n",
       "      <th>other_info</th>\n",
       "      <th>other_info.1</th>\n",
       "      <th>other_info.2</th>\n",
       "      <th>other_info.3</th>\n",
       "      <th>other_info.4</th>\n",
       "      <th>other_info.5</th>\n",
       "      <th>author_Name</th>\n",
       "      <th>author_Surname</th>\n",
       "      <th>clean_birth_year</th>\n",
       "      <th>clean_death_year</th>\n",
       "      <th>century</th>\n",
       "      <th>link</th>\n",
       "      <th>link_txt</th>\n",
       "    </tr>\n",
       "  </thead>\n",
       "  <tbody>\n",
       "    <tr>\n",
       "      <td>0</td>\n",
       "      <td>a8269</td>\n",
       "      <td>/ebooks/18812</td>\n",
       "      <td>Douze ans de séjour dans la Haute-Éthiopie</td>\n",
       "      <td>NaN</td>\n",
       "      <td>NaN</td>\n",
       "      <td>NaN</td>\n",
       "      <td>NaN</td>\n",
       "      <td>NaN</td>\n",
       "      <td>NaN</td>\n",
       "      <td>Abbadie</td>\n",
       "      <td>Arnauld d'</td>\n",
       "      <td>1815</td>\n",
       "      <td>None</td>\n",
       "      <td>19</td>\n",
       "      <td>18812</td>\n",
       "      <td>http://www.gutenberg.org/cache/epub/18812/pg18...</td>\n",
       "    </tr>\n",
       "    <tr>\n",
       "      <td>1</td>\n",
       "      <td>a5182</td>\n",
       "      <td>/ebooks/18092</td>\n",
       "      <td>Germaine</td>\n",
       "      <td>NaN</td>\n",
       "      <td>NaN</td>\n",
       "      <td>NaN</td>\n",
       "      <td>NaN</td>\n",
       "      <td>NaN</td>\n",
       "      <td>NaN</td>\n",
       "      <td>About</td>\n",
       "      <td>Edmond</td>\n",
       "      <td>1828</td>\n",
       "      <td>1885</td>\n",
       "      <td>19</td>\n",
       "      <td>18092</td>\n",
       "      <td>http://www.gutenberg.org/cache/epub/18092/pg18...</td>\n",
       "    </tr>\n",
       "    <tr>\n",
       "      <td>2</td>\n",
       "      <td>a5182</td>\n",
       "      <td>/ebooks/22813</td>\n",
       "      <td>Heath's Modern Language Series: La Mère de la ...</td>\n",
       "      <td>NaN</td>\n",
       "      <td>NaN</td>\n",
       "      <td>NaN</td>\n",
       "      <td>NaN</td>\n",
       "      <td>NaN</td>\n",
       "      <td>NaN</td>\n",
       "      <td>About</td>\n",
       "      <td>Edmond</td>\n",
       "      <td>1828</td>\n",
       "      <td>1885</td>\n",
       "      <td>19</td>\n",
       "      <td>22813</td>\n",
       "      <td>http://www.gutenberg.org/cache/epub/22813/pg22...</td>\n",
       "    </tr>\n",
       "  </tbody>\n",
       "</table>\n",
       "</div>"
      ],
      "text/plain": [
       "  author_code     ebook_link  \\\n",
       "0       a8269  /ebooks/18812   \n",
       "1       a5182  /ebooks/18092   \n",
       "2       a5182  /ebooks/22813   \n",
       "\n",
       "                                         ebook_title other_info other_info.1  \\\n",
       "0         Douze ans de séjour dans la Haute-Éthiopie        NaN          NaN   \n",
       "1                                           Germaine        NaN          NaN   \n",
       "2  Heath's Modern Language Series: La Mère de la ...        NaN          NaN   \n",
       "\n",
       "  other_info.2 other_info.3 other_info.4 other_info.5 author_Name  \\\n",
       "0          NaN          NaN          NaN          NaN     Abbadie   \n",
       "1          NaN          NaN          NaN          NaN       About   \n",
       "2          NaN          NaN          NaN          NaN       About   \n",
       "\n",
       "  author_Surname clean_birth_year clean_death_year century   link  \\\n",
       "0     Arnauld d'             1815             None      19  18812   \n",
       "1         Edmond             1828             1885      19  18092   \n",
       "2         Edmond             1828             1885      19  22813   \n",
       "\n",
       "                                            link_txt  \n",
       "0  http://www.gutenberg.org/cache/epub/18812/pg18...  \n",
       "1  http://www.gutenberg.org/cache/epub/18092/pg18...  \n",
       "2  http://www.gutenberg.org/cache/epub/22813/pg22...  "
      ]
     },
     "execution_count": 266,
     "metadata": {},
     "output_type": "execute_result"
    }
   ],
   "source": [
    "french_book_list.head(3)"
   ]
  },
  {
   "cell_type": "code",
   "execution_count": 267,
   "metadata": {},
   "outputs": [],
   "source": [
    "french_book_list=french_book_list.drop(['link'], axis=1)"
   ]
  },
  {
   "cell_type": "code",
   "execution_count": 268,
   "metadata": {},
   "outputs": [],
   "source": [
    "french_book_list.to_csv('french_books_list_3.csv')"
   ]
  },
  {
   "cell_type": "code",
   "execution_count": null,
   "metadata": {},
   "outputs": [],
   "source": []
  }
 ],
 "metadata": {
  "kernelspec": {
   "display_name": "Python 3",
   "language": "python",
   "name": "python3"
  },
  "language_info": {
   "codemirror_mode": {
    "name": "ipython",
    "version": 3
   },
   "file_extension": ".py",
   "mimetype": "text/x-python",
   "name": "python",
   "nbconvert_exporter": "python",
   "pygments_lexer": "ipython3",
   "version": "3.6.9"
  }
 },
 "nbformat": 4,
 "nbformat_minor": 2
}
